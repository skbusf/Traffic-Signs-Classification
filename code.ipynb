{
 "cells": [
  {
   "cell_type": "code",
   "execution_count": 1,
   "metadata": {},
   "outputs": [
    {
     "data": {
      "text/plain": [
       "'C:\\\\Users\\\\batch_2kjxgc7\\\\Desktop\\\\USF\\\\Courses\\\\DSP\\\\project\\\\trafficsigns'"
      ]
     },
     "execution_count": 1,
     "metadata": {},
     "output_type": "execute_result"
    }
   ],
   "source": [
    "import numpy as np\n",
    "import pandas as pd\n",
    "import matplotlib.pyplot as plt \n",
    "import tensorflow as tf\n",
    "from PIL import Image\n",
    "import os\n",
    "from sklearn.model_selection import train_test_split\n",
    "from keras.utils import to_categorical\n",
    "from keras.models import Sequential\n",
    "from keras.layers import Conv2D, MaxPool2D, Dense, Flatten, Dropout\n",
    "import cv2\n",
    "from sklearn.ensemble import RandomForestClassifier\n",
    "from sklearn import metrics\n",
    "from skimage.filters import roberts, sobel, scharr, prewitt\n",
    "from sklearn.model_selection import GridSearchCV\n",
    "from sklearn.model_selection import StratifiedKFold\n",
    "import matplotlib\n",
    "from sklearn import svm\n",
    "\n",
    "os.chdir(r'C:\\Users\\batch_2kjxgc7\\Desktop\\USF\\Courses\\DSP\\project\\trafficsigns')\n",
    "\n",
    "import warnings\n",
    "warnings.filterwarnings(\"ignore\")\n",
    "\n",
    "cur_path = os.getcwd()\n",
    "cur_path"
   ]
  },
  {
   "cell_type": "code",
   "execution_count": 2,
   "metadata": {},
   "outputs": [],
   "source": [
    "data = []\n",
    "labels = []\n",
    "classes = 43\n",
    "\n",
    "for i in range(classes):\n",
    "    path = os.path.join(cur_path, 'train', str(i))\n",
    "    images = os.listdir(path)\n",
    "    \n",
    "    for a in images:\n",
    "        try:\n",
    "            image = Image.open(path + '\\\\'+ a) \n",
    "            image = image.resize((30,30))\n",
    "            image = np.array(image)\n",
    "            #sim = Image.fromarray(image) \n",
    "            data.append(image) \n",
    "            labels.append(i)\n",
    "        except:\n",
    "            print(\"Error loading image\")\n",
    "            \n",
    "data = np.array(data)\n",
    "labels = np.array(labels)"
   ]
  },
  {
   "cell_type": "code",
   "execution_count": 3,
   "metadata": {},
   "outputs": [
    {
     "name": "stdout",
     "output_type": "stream",
     "text": [
      "(39209, 30, 30, 3) (39209,)\n"
     ]
    }
   ],
   "source": [
    "print(data.shape, labels.shape)"
   ]
  },
  {
   "cell_type": "code",
   "execution_count": 4,
   "metadata": {},
   "outputs": [],
   "source": [
    "X_train_svm, X_test_svm, y_train_svm, y_test_svm = train_test_split(data, labels, test_size=0.9, stratify=labels, random_state=42)"
   ]
  },
  {
   "cell_type": "code",
   "execution_count": 5,
   "metadata": {},
   "outputs": [],
   "source": [
    "X_test_svm, X_test2_svm, y_test_svm, y_test2_svm = train_test_split(X_test_svm, y_test_svm, test_size=0.97, stratify=y_test_svm, random_state=42)"
   ]
  },
  {
   "cell_type": "code",
   "execution_count": 6,
   "metadata": {},
   "outputs": [
    {
     "data": {
      "text/plain": [
       "array([[[[0.2       , 0.22745098, 0.23529412],\n",
       "         [0.15294118, 0.14901961, 0.16078431],\n",
       "         [0.16078431, 0.1372549 , 0.14117647],\n",
       "         ...,\n",
       "         [0.13333333, 0.1372549 , 0.14117647],\n",
       "         [0.15294118, 0.14117647, 0.13333333],\n",
       "         [0.18823529, 0.15686275, 0.17254902]],\n",
       "\n",
       "        [[0.20392157, 0.23921569, 0.24313725],\n",
       "         [0.15294118, 0.15686275, 0.15686275],\n",
       "         [0.17254902, 0.15686275, 0.15294118],\n",
       "         ...,\n",
       "         [0.1372549 , 0.1372549 , 0.14117647],\n",
       "         [0.16470588, 0.16470588, 0.13333333],\n",
       "         [0.16078431, 0.16078431, 0.17647059]],\n",
       "\n",
       "        [[0.17647059, 0.23137255, 0.24705882],\n",
       "         [0.14509804, 0.16470588, 0.18039216],\n",
       "         [0.16862745, 0.15686275, 0.16862745],\n",
       "         ...,\n",
       "         [0.17647059, 0.18431373, 0.18823529],\n",
       "         [0.16862745, 0.18039216, 0.16470588],\n",
       "         [0.17254902, 0.19215686, 0.18823529]],\n",
       "\n",
       "        ...,\n",
       "\n",
       "        [[0.35294118, 0.38039216, 0.41960784],\n",
       "         [0.26666667, 0.2627451 , 0.34901961],\n",
       "         [0.21960784, 0.18039216, 0.21960784],\n",
       "         ...,\n",
       "         [0.2627451 , 0.30196078, 0.35294118],\n",
       "         [0.24313725, 0.29803922, 0.34901961],\n",
       "         [0.20784314, 0.27843137, 0.33333333]],\n",
       "\n",
       "        [[0.35686275, 0.37647059, 0.41176471],\n",
       "         [0.28235294, 0.27843137, 0.35294118],\n",
       "         [0.2       , 0.17647059, 0.20784314],\n",
       "         ...,\n",
       "         [0.26666667, 0.30196078, 0.35686275],\n",
       "         [0.26666667, 0.30588235, 0.37647059],\n",
       "         [0.20392157, 0.24313725, 0.29411765]],\n",
       "\n",
       "        [[0.34509804, 0.37254902, 0.4       ],\n",
       "         [0.2745098 , 0.28235294, 0.3372549 ],\n",
       "         [0.18039216, 0.17647059, 0.19215686],\n",
       "         ...,\n",
       "         [0.2745098 , 0.28627451, 0.34901961],\n",
       "         [0.21960784, 0.24313725, 0.3372549 ],\n",
       "         [0.18823529, 0.23529412, 0.28627451]]],\n",
       "\n",
       "\n",
       "       [[[1.        , 1.        , 1.        ],\n",
       "         [1.        , 1.        , 1.        ],\n",
       "         [1.        , 1.        , 1.        ],\n",
       "         ...,\n",
       "         [1.        , 1.        , 1.        ],\n",
       "         [1.        , 1.        , 1.        ],\n",
       "         [1.        , 1.        , 1.        ]],\n",
       "\n",
       "        [[1.        , 1.        , 1.        ],\n",
       "         [1.        , 1.        , 1.        ],\n",
       "         [1.        , 1.        , 1.        ],\n",
       "         ...,\n",
       "         [1.        , 1.        , 1.        ],\n",
       "         [1.        , 1.        , 1.        ],\n",
       "         [1.        , 1.        , 1.        ]],\n",
       "\n",
       "        [[1.        , 1.        , 1.        ],\n",
       "         [1.        , 1.        , 1.        ],\n",
       "         [1.        , 1.        , 1.        ],\n",
       "         ...,\n",
       "         [1.        , 1.        , 1.        ],\n",
       "         [1.        , 1.        , 1.        ],\n",
       "         [1.        , 1.        , 1.        ]],\n",
       "\n",
       "        ...,\n",
       "\n",
       "        [[0.28235294, 0.32941176, 0.32941176],\n",
       "         [0.50588235, 0.48627451, 0.45882353],\n",
       "         [0.7254902 , 0.74509804, 0.80392157],\n",
       "         ...,\n",
       "         [0.59215686, 0.61176471, 0.64705882],\n",
       "         [0.55686275, 0.57647059, 0.57647059],\n",
       "         [0.62352941, 0.60784314, 0.62745098]],\n",
       "\n",
       "        [[0.36862745, 0.35294118, 0.33333333],\n",
       "         [0.58039216, 0.5372549 , 0.53333333],\n",
       "         [0.69803922, 0.71372549, 0.77254902],\n",
       "         ...,\n",
       "         [0.78823529, 0.80392157, 0.85490196],\n",
       "         [0.76078431, 0.78039216, 0.80392157],\n",
       "         [0.70588235, 0.72156863, 0.77254902]],\n",
       "\n",
       "        [[0.52156863, 0.49803922, 0.5372549 ],\n",
       "         [0.62745098, 0.62352941, 0.70196078],\n",
       "         [0.68235294, 0.71372549, 0.78431373],\n",
       "         ...,\n",
       "         [0.78039216, 0.81176471, 0.8627451 ],\n",
       "         [0.79215686, 0.82745098, 0.85098039],\n",
       "         [0.8       , 0.81960784, 0.88627451]]],\n",
       "\n",
       "\n",
       "       [[[0.09019608, 0.07843137, 0.07058824],\n",
       "         [0.23137255, 0.18823529, 0.17254902],\n",
       "         [0.25882353, 0.17254902, 0.16470588],\n",
       "         ...,\n",
       "         [0.24705882, 0.10588235, 0.10196078],\n",
       "         [0.28235294, 0.19607843, 0.2       ],\n",
       "         [0.21960784, 0.18431373, 0.16862745]],\n",
       "\n",
       "        [[0.14509804, 0.1254902 , 0.1254902 ],\n",
       "         [0.27058824, 0.18823529, 0.17647059],\n",
       "         [0.23137255, 0.09803922, 0.08235294],\n",
       "         ...,\n",
       "         [0.24705882, 0.09019608, 0.08627451],\n",
       "         [0.25882353, 0.14117647, 0.1372549 ],\n",
       "         [0.30196078, 0.22352941, 0.21568627]],\n",
       "\n",
       "        [[0.16470588, 0.14117647, 0.15294118],\n",
       "         [0.24705882, 0.14901961, 0.14901961],\n",
       "         [0.23137255, 0.09803922, 0.08627451],\n",
       "         ...,\n",
       "         [0.21568627, 0.09411765, 0.09019608],\n",
       "         [0.21960784, 0.11764706, 0.10196078],\n",
       "         [0.25490196, 0.18431373, 0.18431373]],\n",
       "\n",
       "        ...,\n",
       "\n",
       "        [[0.0745098 , 0.0627451 , 0.0627451 ],\n",
       "         [0.09019608, 0.07843137, 0.0745098 ],\n",
       "         [0.12941176, 0.11372549, 0.11372549],\n",
       "         ...,\n",
       "         [0.12941176, 0.12941176, 0.11764706],\n",
       "         [0.13333333, 0.12156863, 0.09411765],\n",
       "         [0.1372549 , 0.12156863, 0.10196078]],\n",
       "\n",
       "        [[0.07843137, 0.0627451 , 0.05882353],\n",
       "         [0.09411765, 0.08627451, 0.0745098 ],\n",
       "         [0.13333333, 0.13333333, 0.12156863],\n",
       "         ...,\n",
       "         [0.14901961, 0.15686275, 0.14509804],\n",
       "         [0.15294118, 0.14117647, 0.11764706],\n",
       "         [0.14901961, 0.1254902 , 0.11372549]],\n",
       "\n",
       "        [[0.0745098 , 0.06666667, 0.05882353],\n",
       "         [0.07843137, 0.0745098 , 0.0627451 ],\n",
       "         [0.11372549, 0.11372549, 0.10588235],\n",
       "         ...,\n",
       "         [0.18431373, 0.17254902, 0.16470588],\n",
       "         [0.17647059, 0.16470588, 0.15294118],\n",
       "         [0.14117647, 0.1254902 , 0.12156863]]],\n",
       "\n",
       "\n",
       "       ...,\n",
       "\n",
       "\n",
       "       [[[0.07058824, 0.07058824, 0.09411765],\n",
       "         [0.0627451 , 0.07058824, 0.09411765],\n",
       "         [0.05882353, 0.06666667, 0.08627451],\n",
       "         ...,\n",
       "         [0.05490196, 0.05882353, 0.07058824],\n",
       "         [0.04705882, 0.05098039, 0.05882353],\n",
       "         [0.04705882, 0.05098039, 0.0627451 ]],\n",
       "\n",
       "        [[0.06666667, 0.06666667, 0.08627451],\n",
       "         [0.06666667, 0.06666667, 0.09019608],\n",
       "         [0.0627451 , 0.0627451 , 0.08627451],\n",
       "         ...,\n",
       "         [0.05490196, 0.05490196, 0.06666667],\n",
       "         [0.05098039, 0.05490196, 0.06666667],\n",
       "         [0.05098039, 0.05098039, 0.06666667]],\n",
       "\n",
       "        [[0.06666667, 0.07058824, 0.08627451],\n",
       "         [0.06666667, 0.0627451 , 0.08627451],\n",
       "         [0.05882353, 0.0627451 , 0.08627451],\n",
       "         ...,\n",
       "         [0.04705882, 0.04705882, 0.06666667],\n",
       "         [0.05490196, 0.05490196, 0.0745098 ],\n",
       "         [0.05098039, 0.05098039, 0.0745098 ]],\n",
       "\n",
       "        ...,\n",
       "\n",
       "        [[0.07843137, 0.09803922, 0.12156863],\n",
       "         [0.08235294, 0.09803922, 0.1254902 ],\n",
       "         [0.08627451, 0.09803922, 0.1254902 ],\n",
       "         ...,\n",
       "         [0.0745098 , 0.08235294, 0.10588235],\n",
       "         [0.0745098 , 0.08235294, 0.11372549],\n",
       "         [0.07058824, 0.08627451, 0.11764706]],\n",
       "\n",
       "        [[0.09019608, 0.10588235, 0.12941176],\n",
       "         [0.09411765, 0.10980392, 0.13333333],\n",
       "         [0.09411765, 0.10980392, 0.13333333],\n",
       "         ...,\n",
       "         [0.0745098 , 0.08235294, 0.11372549],\n",
       "         [0.07843137, 0.08627451, 0.11764706],\n",
       "         [0.07058824, 0.07843137, 0.10980392]],\n",
       "\n",
       "        [[0.07058824, 0.08235294, 0.10196078],\n",
       "         [0.0627451 , 0.07843137, 0.09411765],\n",
       "         [0.0627451 , 0.08235294, 0.09411765],\n",
       "         ...,\n",
       "         [0.07058824, 0.07843137, 0.10980392],\n",
       "         [0.0745098 , 0.08235294, 0.11372549],\n",
       "         [0.07058824, 0.0745098 , 0.09803922]]],\n",
       "\n",
       "\n",
       "       [[[0.20784314, 0.19607843, 0.18039216],\n",
       "         [0.24313725, 0.23137255, 0.19215686],\n",
       "         [0.2       , 0.18823529, 0.17647059],\n",
       "         ...,\n",
       "         [0.2745098 , 0.25882353, 0.27843137],\n",
       "         [0.36862745, 0.33333333, 0.34117647],\n",
       "         [0.27843137, 0.26666667, 0.2627451 ]],\n",
       "\n",
       "        [[0.20392157, 0.20392157, 0.2       ],\n",
       "         [0.35686275, 0.32156863, 0.28627451],\n",
       "         [0.28627451, 0.22352941, 0.21176471],\n",
       "         ...,\n",
       "         [0.27058824, 0.25098039, 0.27058824],\n",
       "         [0.36862745, 0.33333333, 0.34509804],\n",
       "         [0.28627451, 0.2745098 , 0.27843137]],\n",
       "\n",
       "        [[0.18431373, 0.19215686, 0.21960784],\n",
       "         [0.4627451 , 0.41568627, 0.43921569],\n",
       "         [0.54901961, 0.44313725, 0.49803922],\n",
       "         ...,\n",
       "         [0.26666667, 0.24705882, 0.27058824],\n",
       "         [0.37647059, 0.34117647, 0.35294118],\n",
       "         [0.29803922, 0.28235294, 0.28235294]],\n",
       "\n",
       "        ...,\n",
       "\n",
       "        [[0.20392157, 0.20784314, 0.22745098],\n",
       "         [0.16078431, 0.17254902, 0.20392157],\n",
       "         [0.25490196, 0.2745098 , 0.31764706],\n",
       "         ...,\n",
       "         [0.40784314, 0.36862745, 0.36862745],\n",
       "         [0.40392157, 0.34901961, 0.34117647],\n",
       "         [0.3254902 , 0.29803922, 0.28235294]],\n",
       "\n",
       "        [[0.18431373, 0.17647059, 0.19607843],\n",
       "         [0.16078431, 0.16470588, 0.19607843],\n",
       "         [0.21176471, 0.23137255, 0.29803922],\n",
       "         ...,\n",
       "         [0.37647059, 0.34901961, 0.35294118],\n",
       "         [0.4       , 0.35686275, 0.34901961],\n",
       "         [0.3254902 , 0.29803922, 0.27843137]],\n",
       "\n",
       "        [[0.2       , 0.18039216, 0.19215686],\n",
       "         [0.16078431, 0.16078431, 0.18039216],\n",
       "         [0.17647059, 0.19607843, 0.24313725],\n",
       "         ...,\n",
       "         [0.34901961, 0.32941176, 0.3372549 ],\n",
       "         [0.38823529, 0.35294118, 0.34901961],\n",
       "         [0.3254902 , 0.30196078, 0.28627451]]],\n",
       "\n",
       "\n",
       "       [[[0.23529412, 0.2       , 0.20784314],\n",
       "         [0.15294118, 0.1372549 , 0.15294118],\n",
       "         [0.1254902 , 0.12941176, 0.14509804],\n",
       "         ...,\n",
       "         [0.11764706, 0.11372549, 0.1372549 ],\n",
       "         [0.21176471, 0.2       , 0.21568627],\n",
       "         [0.20784314, 0.19215686, 0.2       ]],\n",
       "\n",
       "        [[0.22352941, 0.20784314, 0.25490196],\n",
       "         [0.22352941, 0.16078431, 0.19607843],\n",
       "         [0.16078431, 0.12156863, 0.12156863],\n",
       "         ...,\n",
       "         [0.12941176, 0.14901961, 0.18039216],\n",
       "         [0.18039216, 0.17647059, 0.19215686],\n",
       "         [0.17254902, 0.18039216, 0.19215686]],\n",
       "\n",
       "        [[0.27058824, 0.25098039, 0.2627451 ],\n",
       "         [0.23137255, 0.19215686, 0.23137255],\n",
       "         [0.17254902, 0.14901961, 0.17647059],\n",
       "         ...,\n",
       "         [0.2       , 0.22745098, 0.24313725],\n",
       "         [0.15294118, 0.15294118, 0.14117647],\n",
       "         [0.1254902 , 0.1372549 , 0.18431373]],\n",
       "\n",
       "        ...,\n",
       "\n",
       "        [[0.07843137, 0.06666667, 0.0745098 ],\n",
       "         [0.05098039, 0.05098039, 0.05882353],\n",
       "         [0.05882353, 0.05490196, 0.06666667],\n",
       "         ...,\n",
       "         [0.1254902 , 0.15686275, 0.21960784],\n",
       "         [0.17647059, 0.17254902, 0.2       ],\n",
       "         [0.10588235, 0.09803922, 0.09803922]],\n",
       "\n",
       "        [[0.07843137, 0.0627451 , 0.06666667],\n",
       "         [0.0627451 , 0.05490196, 0.06666667],\n",
       "         [0.05882353, 0.05490196, 0.0627451 ],\n",
       "         ...,\n",
       "         [0.08627451, 0.10196078, 0.14509804],\n",
       "         [0.13333333, 0.12941176, 0.19215686],\n",
       "         [0.10588235, 0.09411765, 0.07843137]],\n",
       "\n",
       "        [[0.08235294, 0.0627451 , 0.06666667],\n",
       "         [0.06666667, 0.05882353, 0.07058824],\n",
       "         [0.07058824, 0.06666667, 0.0745098 ],\n",
       "         ...,\n",
       "         [0.10196078, 0.14509804, 0.24313725],\n",
       "         [0.23921569, 0.2745098 , 0.38823529],\n",
       "         [0.18823529, 0.15686275, 0.14117647]]]])"
      ]
     },
     "execution_count": 6,
     "metadata": {},
     "output_type": "execute_result"
    }
   ],
   "source": [
    "X_train_svm  = X_train_svm / 255\n",
    "X_train_svm"
   ]
  },
  {
   "cell_type": "code",
   "execution_count": 7,
   "metadata": {},
   "outputs": [],
   "source": [
    "def feature_extraction(X_train):\n",
    "    image_dataset = pd.DataFrame()\n",
    "    kernels_main = []\n",
    "\n",
    "    for image in range(X_train.shape[0]):\n",
    "\n",
    "        df = pd.DataFrame()\n",
    "\n",
    "        img = X_train[image, :, :, :]\n",
    "\n",
    "        pixels = img.reshape(-1)\n",
    "\n",
    "        #the actual pixel values as the feature\n",
    "        df[\"pixel_value\"] = pixels\n",
    "\n",
    "        # Gabor Filters\n",
    "        num = 1\n",
    "        kernels = []\n",
    "\n",
    "        for theta in range(4):\n",
    "            theta = theta / 4. * np.pi\n",
    "            for sigma in (1,3):\n",
    "                lamda = np.pi/4\n",
    "                gamma = 0.5\n",
    "                gabor_label = 'Gabor' + str(num)\n",
    "                ksize = 9\n",
    "                phi = 0\n",
    "                kernel = cv2.getGaborKernel((ksize, ksize), sigma, theta, lamda, gamma, phi, ktype = cv2.CV_32F)\n",
    "                kernels.append(kernel)\n",
    "                f_image = cv2.filter2D(img, cv2.CV_8UC3, kernel)\n",
    "                filtered_img = f_image.reshape(-1)\n",
    "                df[gabor_label] = filtered_img\n",
    "                num += 1\n",
    "\n",
    "        # Sobel Filter Feature\n",
    "        edge_sobel = sobel(img)\n",
    "        edge_sobel1 = edge_sobel.reshape(-1)\n",
    "        df['sobel'] = edge_sobel1\n",
    "\n",
    "        # #ROBERTS EDGE\n",
    "        # edge_roberts = roberts(img)\n",
    "        # edge_roberts1 = edge_roberts.reshape(-1)\n",
    "        # df['Roberts'] = edge_roberts1\n",
    "        \n",
    "        #SCHARR\n",
    "        edge_scharr = scharr(img)\n",
    "        edge_scharr1 = edge_scharr.reshape(-1)\n",
    "        df['Scharr'] = edge_scharr1\n",
    "        \n",
    "        #PREWITT\n",
    "        edge_prewitt = prewitt(img)\n",
    "        edge_prewitt1 = edge_prewitt.reshape(-1)\n",
    "        df['Prewitt'] = edge_prewitt1\n",
    "        \n",
    "        #GAUSSIAN with sigma=3\n",
    "        from scipy import ndimage as nd\n",
    "        gaussian_img = nd.gaussian_filter(img, sigma=3)\n",
    "        gaussian_img1 = gaussian_img.reshape(-1)\n",
    "        df['Gaussian s3'] = gaussian_img1\n",
    "        \n",
    "        #GAUSSIAN with sigma=7\n",
    "        gaussian_img2 = nd.gaussian_filter(img, sigma=7)\n",
    "        gaussian_img3 = gaussian_img2.reshape(-1)\n",
    "        df['Gaussian s7'] = gaussian_img3\n",
    "    \n",
    "        #MEDIAN with sigma=3\n",
    "        median_img = nd.median_filter(img, size=3)\n",
    "        median_img1 = median_img.reshape(-1)\n",
    "        df['Median s3'] = median_img1\n",
    "        \n",
    "        image_dataset = image_dataset.append(df)\n",
    "        kernels_main  = kernels\n",
    "    return image_dataset, kernels_main\n"
   ]
  },
  {
   "cell_type": "code",
   "execution_count": 11,
   "metadata": {},
   "outputs": [],
   "source": [
    "images_features, kernels = feature_extraction(X_train_svm)"
   ]
  },
  {
   "cell_type": "code",
   "execution_count": 12,
   "metadata": {},
   "outputs": [
    {
     "data": {
      "text/plain": [
       "(10584000, 15)"
      ]
     },
     "execution_count": 12,
     "metadata": {},
     "output_type": "execute_result"
    }
   ],
   "source": [
    "images_features.shape"
   ]
  },
  {
   "cell_type": "code",
   "execution_count": 13,
   "metadata": {},
   "outputs": [],
   "source": [
    "image_features = np.expand_dims(images_features, axis=0)\n",
    "X_train = np.reshape(image_features, (X_train_svm.shape[0], -1))"
   ]
  },
  {
   "cell_type": "code",
   "execution_count": 14,
   "metadata": {},
   "outputs": [
    {
     "data": {
      "text/plain": [
       "(3920, 40500)"
      ]
     },
     "execution_count": 14,
     "metadata": {},
     "output_type": "execute_result"
    }
   ],
   "source": [
    "X_train.shape"
   ]
  },
  {
   "cell_type": "code",
   "execution_count": 15,
   "metadata": {},
   "outputs": [],
   "source": [
    "X_test_svm = X_test_svm/255\n",
    "test_features, kernels = feature_extraction(X_test_svm)"
   ]
  },
  {
   "cell_type": "code",
   "execution_count": 16,
   "metadata": {},
   "outputs": [
    {
     "data": {
      "text/plain": [
       "(2856600, 15)"
      ]
     },
     "execution_count": 16,
     "metadata": {},
     "output_type": "execute_result"
    }
   ],
   "source": [
    "test_features.shape"
   ]
  },
  {
   "cell_type": "code",
   "execution_count": 17,
   "metadata": {},
   "outputs": [],
   "source": [
    "test_features = np.expand_dims(test_features, axis=0)\n",
    "X_test = np.reshape(test_features, (X_test_svm.shape[0], -1))"
   ]
  },
  {
   "cell_type": "code",
   "execution_count": 18,
   "metadata": {},
   "outputs": [
    {
     "data": {
      "text/plain": [
       "(1058, 40500)"
      ]
     },
     "execution_count": 18,
     "metadata": {},
     "output_type": "execute_result"
    }
   ],
   "source": [
    "X_test.shape"
   ]
  },
  {
   "cell_type": "code",
   "execution_count": 58,
   "metadata": {},
   "outputs": [
    {
     "name": "stdout",
     "output_type": "stream",
     "text": [
      "[30, 35, 40]\n",
      "Fitting 10 folds for each of 4 candidates, totalling 40 fits\n",
      "Best: 0.870153 using {'n_estimators': 700}\n",
      "0.867857 (0.009324) with: {'n_estimators': 400}\n",
      "0.865816 (0.012917) with: {'n_estimators': 500}\n",
      "0.867092 (0.008722) with: {'n_estimators': 600}\n",
      "0.870153 (0.009711) with: {'n_estimators': 700}\n"
     ]
    },
    {
     "ename": "ValueError",
     "evalue": "cannot reshape array of size 4 into shape (3,4)",
     "output_type": "error",
     "traceback": [
      "\u001b[1;31m---------------------------------------------------------------------------\u001b[0m",
      "\u001b[1;31mValueError\u001b[0m                                Traceback (most recent call last)",
      "\u001b[1;32mc:\\Users\\batch_2kjxgc7\\Desktop\\USF\\Courses\\DSP\\project\\code.ipynb Cell 16\u001b[0m in \u001b[0;36m<cell line: 26>\u001b[1;34m()\u001b[0m\n\u001b[0;32m     <a href='vscode-notebook-cell:/c%3A/Users/batch_2kjxgc7/Desktop/USF/Courses/DSP/project/code.ipynb#X43sZmlsZQ%3D%3D?line=23'>24</a>\u001b[0m \t\u001b[39mprint\u001b[39m(\u001b[39m\"\u001b[39m\u001b[39m%f\u001b[39;00m\u001b[39m (\u001b[39m\u001b[39m%f\u001b[39;00m\u001b[39m) with: \u001b[39m\u001b[39m%r\u001b[39;00m\u001b[39m\"\u001b[39m \u001b[39m%\u001b[39m (mean, stdev, param))\n\u001b[0;32m     <a href='vscode-notebook-cell:/c%3A/Users/batch_2kjxgc7/Desktop/USF/Courses/DSP/project/code.ipynb#X43sZmlsZQ%3D%3D?line=24'>25</a>\u001b[0m \u001b[39m# plot results\u001b[39;00m\n\u001b[1;32m---> <a href='vscode-notebook-cell:/c%3A/Users/batch_2kjxgc7/Desktop/USF/Courses/DSP/project/code.ipynb#X43sZmlsZQ%3D%3D?line=25'>26</a>\u001b[0m scores \u001b[39m=\u001b[39m numpy\u001b[39m.\u001b[39;49marray(means)\u001b[39m.\u001b[39;49mreshape(\u001b[39mlen\u001b[39;49m(max_depth), \u001b[39mlen\u001b[39;49m(n_estimators))\n\u001b[0;32m     <a href='vscode-notebook-cell:/c%3A/Users/batch_2kjxgc7/Desktop/USF/Courses/DSP/project/code.ipynb#X43sZmlsZQ%3D%3D?line=26'>27</a>\u001b[0m \u001b[39mfor\u001b[39;00m i, value \u001b[39min\u001b[39;00m \u001b[39menumerate\u001b[39m(max_depth):\n\u001b[0;32m     <a href='vscode-notebook-cell:/c%3A/Users/batch_2kjxgc7/Desktop/USF/Courses/DSP/project/code.ipynb#X43sZmlsZQ%3D%3D?line=27'>28</a>\u001b[0m     pyplot\u001b[39m.\u001b[39mplot(n_estimators, scores[i], label\u001b[39m=\u001b[39m\u001b[39m'\u001b[39m\u001b[39mdepth: \u001b[39m\u001b[39m'\u001b[39m \u001b[39m+\u001b[39m \u001b[39mstr\u001b[39m(value))\n",
      "\u001b[1;31mValueError\u001b[0m: cannot reshape array of size 4 into shape (3,4)"
     ]
    }
   ],
   "source": [
    "matplotlib.use('Agg')\n",
    "model = RandomForestClassifier()\n",
    "n_estimators = [200,300, 400 , 500]\n",
    "max_depth = [30, 35, 40]\n",
    "print(max_depth)\n",
    "param_grid = dict(max_depth=max_depth, n_estimators=n_estimators)\n",
    "kfold = StratifiedKFold(n_splits=10, shuffle=True, random_state=42)\n",
    "grid_search = GridSearchCV(model, param_grid, scoring=\"accuracy\", n_jobs=-1, cv=kfold, verbose=1)\n",
    "grid_result = grid_search.fit(X_train, y_train_svm)\n",
    "# summarize results\n",
    "print(\"Best: %f using %s\" % (grid_result.best_score_, grid_result.best_params_))\n",
    "means = grid_result.cv_results_['mean_test_score']\n",
    "stds = grid_result.cv_results_['std_test_score']\n",
    "params = grid_result.cv_results_['params']\n",
    "for mean, stdev, param in zip(means, stds, params):\n",
    "\tprint(\"%f (%f) with: %r\" % (mean, stdev, param))\n",
    "# plot results\n",
    "scores = np.array(means).reshape(len(max_depth), len(n_estimators))\n",
    "for i, value in enumerate(max_depth):\n",
    "    plt.plot(n_estimators, scores[i], label='depth: ' + str(value))\n",
    "plt.legend()\n",
    "plt.xlabel('n_estimators')\n",
    "plt.ylabel('Log Loss')\n",
    "plt.savefig('n_estimators_vs_max_depth for 4.png')"
   ]
  },
  {
   "cell_type": "code",
   "execution_count": 67,
   "metadata": {},
   "outputs": [
    {
     "data": {
      "text/plain": [
       "RandomForestClassifier(n_estimators=400, random_state=42)"
      ]
     },
     "execution_count": 67,
     "metadata": {},
     "output_type": "execute_result"
    }
   ],
   "source": [
    "RF_model = RandomForestClassifier(n_estimators = 400,random_state = 42)\n",
    "\n",
    "RF_model.fit(X_train, y_train_svm )"
   ]
  },
  {
   "cell_type": "code",
   "execution_count": 68,
   "metadata": {},
   "outputs": [],
   "source": [
    "predicted_values = RF_model.predict(X_test)"
   ]
  },
  {
   "cell_type": "code",
   "execution_count": 69,
   "metadata": {},
   "outputs": [
    {
     "name": "stdout",
     "output_type": "stream",
     "text": [
      "0.8809073724007561\n"
     ]
    }
   ],
   "source": [
    "accuracy = metrics.accuracy_score(y_test_svm, predicted_values)\n",
    "print(accuracy)"
   ]
  },
  {
   "cell_type": "code",
   "execution_count": 70,
   "metadata": {},
   "outputs": [
    {
     "data": {
      "text/plain": [
       "<AxesSubplot:>"
      ]
     },
     "execution_count": 70,
     "metadata": {},
     "output_type": "execute_result"
    },
    {
     "data": {
      "image/png": "[encoded data removed]",
      "text/plain": [
       "<Figure size 1080x1080 with 2 Axes>"
      ]
     },
     "metadata": {},
     "output_type": "display_data"
    }
   ],
   "source": [
    "cm = metrics.confusion_matrix(y_test_svm, predicted_values)\n",
    "import seaborn as sns\n",
    "import matplotlib.pyplot as plt\n",
    "\n",
    "fig, ax = plt.subplots(figsize=(15,15))         # Sample figsize in inches\n",
    "sns.set(font_scale=1.6)\n",
    "sns.heatmap(cm, annot=True, ax=ax)"
   ]
  },
  {
   "cell_type": "code",
   "execution_count": 10,
   "metadata": {},
   "outputs": [
    {
     "ename": "NameError",
     "evalue": "name 'images_features' is not defined",
     "output_type": "error",
     "traceback": [
      "\u001b[1;31m---------------------------------------------------------------------------\u001b[0m",
      "\u001b[1;31mNameError\u001b[0m                                 Traceback (most recent call last)",
      "\u001b[1;32mc:\\Users\\batch_2kjxgc7\\Desktop\\USF\\Courses\\DSP\\project\\code.ipynb Cell 21\u001b[0m in \u001b[0;36m<cell line: 1>\u001b[1;34m()\u001b[0m\n\u001b[1;32m----> <a href='vscode-notebook-cell:/c%3A/Users/batch_2kjxgc7/Desktop/USF/Courses/DSP/project/code.ipynb#X26sZmlsZQ%3D%3D?line=0'>1</a>\u001b[0m features_list \u001b[39m=\u001b[39m images_features\u001b[39m.\u001b[39mcolumns\n\u001b[0;32m      <a href='vscode-notebook-cell:/c%3A/Users/batch_2kjxgc7/Desktop/USF/Courses/DSP/project/code.ipynb#X26sZmlsZQ%3D%3D?line=1'>2</a>\u001b[0m features_list\n",
      "\u001b[1;31mNameError\u001b[0m: name 'images_features' is not defined"
     ]
    }
   ],
   "source": [
    "features_list = images_features.columns\n",
    "features_list"
   ]
  },
  {
   "cell_type": "code",
   "execution_count": null,
   "metadata": {},
   "outputs": [
    {
     "data": {
      "text/plain": [
       "(40500,)"
      ]
     },
     "execution_count": 72,
     "metadata": {},
     "output_type": "execute_result"
    }
   ],
   "source": [
    "RF_model.feature_importances_.shape"
   ]
  },
  {
   "cell_type": "code",
   "execution_count": null,
   "metadata": {},
   "outputs": [],
   "source": [
    "feature_imp = pd.Series(RF_model.feature_importances_, index=features_list).sort_values(ascending=False)\n",
    "print(feature_imp)"
   ]
  },
  {
   "cell_type": "code",
   "execution_count": 17,
   "metadata": {},
   "outputs": [
    {
     "name": "stdout",
     "output_type": "stream",
     "text": [
      "Fitting 10 folds for each of 16 candidates, totalling 160 fits\n"
     ]
    }
   ],
   "source": [
    "matplotlib.use('Agg')\n",
    "model = svm.SVC()\n",
    "kernels = [\"poly\",\"rbf\"]\n",
    "coef_0 = [0.5, 1]\n",
    "degrees = [3,4]\n",
    "c_s = [5,10]\n",
    "param_grid = dict(kernel=kernels, coef0=coef_0, degree = degrees , C = c_s)\n",
    "kfold = StratifiedKFold(n_splits=10, shuffle=True, random_state=42)\n",
    "grid_search = GridSearchCV(model, param_grid, scoring=\"accuracy\", n_jobs=-1, cv=kfold, verbose=1)\n",
    "grid_result = grid_search.fit(X_train, y_train_svm)\n",
    "# summarize results\n",
    "print(\"Best: %f using %s\" % (grid_result.best_score_, grid_result.best_params_))\n",
    "means = grid_result.cv_results_['mean_test_score']\n",
    "stds = grid_result.cv_results_['std_test_score']\n",
    "params = grid_result.cv_results_['params']\n",
    "for mean, stdev, param in zip(means, stds, params):\n",
    "\tprint(\"%f (%f) with: %r\" % (mean, stdev, param))\n",
    "# # plot results\n",
    "# scores = np.array(means).reshape(len(max_depth), len(n_estimators))\n",
    "# for i, value in enumerate(max_depth):\n",
    "#     plt.plot(n_estimators, scores[i], label='depth: ' + str(value))\n",
    "# plt.legend()\n",
    "# plt.xlabel('n_estimators')\n",
    "# plt.ylabel('Log Loss')\n",
    "# plt.savefig('n_estimators_vs_max_depth for 4.png')"
   ]
  },
  {
   "cell_type": "code",
   "execution_count": 19,
   "metadata": {},
   "outputs": [
    {
     "name": "stdout",
     "output_type": "stream",
     "text": [
      "0.8241965973534972\n"
     ]
    }
   ],
   "source": [
    "SVM_model = svm.SVC(kernel=\"rbf\", coef0=0.5, C=10, decision_function_shape='ovo', random_state = 42)  #For multiclass classification\n",
    "SVM_model.fit(X_train, y_train_svm )\n",
    "predicted_values = SVM_model.predict(X_test)\n",
    "accuracy = metrics.accuracy_score(y_test_svm, predicted_values)\n",
    "print(accuracy)"
   ]
  },
  {
   "cell_type": "code",
   "execution_count": 20,
   "metadata": {},
   "outputs": [
    {
     "name": "stdout",
     "output_type": "stream",
     "text": [
      "0.8629489603024575\n"
     ]
    }
   ],
   "source": [
    "SVM_model = svm.SVC(kernel=\"rbf\", coef0=1, C=100, decision_function_shape='ovo', random_state= 42)  #For multiclass classification\n",
    "SVM_model.fit(X_train, y_train_svm )\n",
    "predicted_values = SVM_model.predict(X_test)\n",
    "accuracy = metrics.accuracy_score(y_test_svm, predicted_values)\n",
    "print(accuracy)"
   ]
  },
  {
   "cell_type": "code",
   "execution_count": 21,
   "metadata": {},
   "outputs": [
    {
     "name": "stdout",
     "output_type": "stream",
     "text": [
      "0.776937618147448\n"
     ]
    }
   ],
   "source": [
    "SVM_model = svm.SVC(kernel=\"rbf\", coef0=1, C=5, decision_function_shape='ovo', random_state = 42)  #For multiclass classification\n",
    "SVM_model.fit(X_train, y_train_svm )\n",
    "predicted_values = SVM_model.predict(X_test)\n",
    "accuracy = metrics.accuracy_score(y_test_svm, predicted_values)\n",
    "print(accuracy)"
   ]
  },
  {
   "cell_type": "code",
   "execution_count": 22,
   "metadata": {},
   "outputs": [
    {
     "name": "stdout",
     "output_type": "stream",
     "text": [
      "0.776937618147448\n"
     ]
    }
   ],
   "source": [
    "SVM_model = svm.SVC(kernel=\"rbf\", coef0=0.5, C=5, decision_function_shape='ovo', random_state = 42)  #For multiclass classification\n",
    "SVM_model.fit(X_train, y_train_svm )\n",
    "predicted_values = SVM_model.predict(X_test)\n",
    "accuracy = metrics.accuracy_score(y_test_svm, predicted_values)\n",
    "print(accuracy)"
   ]
  },
  {
   "cell_type": "code",
   "execution_count": 23,
   "metadata": {},
   "outputs": [
    {
     "name": "stdout",
     "output_type": "stream",
     "text": [
      "0.8015122873345936\n"
     ]
    }
   ],
   "source": [
    "SVM_model = svm.SVC(kernel=\"poly\",degree=3, coef0=1, C=10, decision_function_shape='ovo', random_state = 42)  #For multiclass classification\n",
    "SVM_model.fit(X_train, y_train_svm )\n",
    "predicted_values = SVM_model.predict(X_test)\n",
    "accuracy = metrics.accuracy_score(y_test_svm, predicted_values)\n",
    "print(accuracy)"
   ]
  },
  {
   "cell_type": "code",
   "execution_count": 24,
   "metadata": {},
   "outputs": [
    {
     "name": "stdout",
     "output_type": "stream",
     "text": [
      "0.7873345935727788\n"
     ]
    }
   ],
   "source": [
    "SVM_model = svm.SVC(kernel=\"poly\",degree=4, coef0=1, C=10, decision_function_shape='ovo', random_state = 42)  #For multiclass classification\n",
    "SVM_model.fit(X_train, y_train_svm )\n",
    "predicted_values = SVM_model.predict(X_test)\n",
    "accuracy = metrics.accuracy_score(y_test_svm, predicted_values)\n",
    "print(accuracy)"
   ]
  },
  {
   "cell_type": "code",
   "execution_count": 25,
   "metadata": {},
   "outputs": [
    {
     "name": "stdout",
     "output_type": "stream",
     "text": [
      "0.7457466918714556\n"
     ]
    }
   ],
   "source": [
    "SVM_model = svm.SVC(kernel=\"poly\",degree=3, coef0=0.5, C=10, decision_function_shape='ovo', random_state = 42)  #For multiclass classification\n",
    "SVM_model.fit(X_train, y_train_svm )\n",
    "predicted_values = SVM_model.predict(X_test)\n",
    "accuracy = metrics.accuracy_score(y_test_svm, predicted_values)\n",
    "print(accuracy)"
   ]
  },
  {
   "cell_type": "code",
   "execution_count": 27,
   "metadata": {},
   "outputs": [
    {
     "name": "stdout",
     "output_type": "stream",
     "text": [
      "0.7844990548204159\n"
     ]
    }
   ],
   "source": [
    "SVM_model = svm.SVC(kernel=\"poly\",degree=3, coef0=1, C=5, decision_function_shape='ovo', random_state = 42)  #For multiclass classification\n",
    "SVM_model.fit(X_train, y_train_svm )\n",
    "predicted_values = SVM_model.predict(X_test)\n",
    "accuracy = metrics.accuracy_score(y_test_svm, predicted_values)\n",
    "print(accuracy)"
   ]
  },
  {
   "cell_type": "code",
   "execution_count": 26,
   "metadata": {},
   "outputs": [
    {
     "name": "stdout",
     "output_type": "stream",
     "text": [
      "0.6994328922495274\n"
     ]
    }
   ],
   "source": [
    "SVM_model = svm.SVC(kernel=\"poly\",degree=3, coef0=0.5, C=5, decision_function_shape='ovo', random_state = 42)  #For multiclass classification\n",
    "SVM_model.fit(X_train, y_train_svm )\n",
    "predicted_values = SVM_model.predict(X_test)\n",
    "accuracy = metrics.accuracy_score(y_test_svm, predicted_values)\n",
    "print(accuracy)"
   ]
  },
  {
   "cell_type": "code",
   "execution_count": 28,
   "metadata": {},
   "outputs": [
    {
     "name": "stdout",
     "output_type": "stream",
     "text": [
      "0.665406427221172\n"
     ]
    }
   ],
   "source": [
    "SVM_model = svm.SVC(kernel=\"poly\",degree=4, coef0=0.5, C=5, decision_function_shape='ovo', random_state = 42)  #For multiclass classification\n",
    "SVM_model.fit(X_train, y_train_svm )\n",
    "predicted_values = SVM_model.predict(X_test)\n",
    "accuracy = metrics.accuracy_score(y_test_svm, predicted_values)\n",
    "print(accuracy)"
   ]
  },
  {
   "cell_type": "code",
   "execution_count": 29,
   "metadata": {},
   "outputs": [
    {
     "name": "stdout",
     "output_type": "stream",
     "text": [
      "0.775047258979206\n"
     ]
    }
   ],
   "source": [
    "SVM_model = svm.SVC(kernel=\"poly\",degree=4, coef0=1, C=5, decision_function_shape='ovo', random_state = 42)  #For multiclass classification\n",
    "SVM_model.fit(X_train, y_train_svm )\n",
    "predicted_values = SVM_model.predict(X_test)\n",
    "accuracy = metrics.accuracy_score(y_test_svm, predicted_values)\n",
    "print(accuracy)"
   ]
  },
  {
   "cell_type": "code",
   "execution_count": 30,
   "metadata": {},
   "outputs": [
    {
     "name": "stdout",
     "output_type": "stream",
     "text": [
      "0.7958412098298677\n"
     ]
    }
   ],
   "source": [
    "SVM_model = svm.SVC(kernel=\"poly\",degree=4, coef0=1, C=20, decision_function_shape='ovo', random_state = 42)  #For multiclass classification\n",
    "SVM_model.fit(X_train, y_train_svm )\n",
    "predicted_values = SVM_model.predict(X_test)\n",
    "accuracy = metrics.accuracy_score(y_test_svm, predicted_values)\n",
    "print(accuracy)"
   ]
  },
  {
   "cell_type": "code",
   "execution_count": 31,
   "metadata": {},
   "outputs": [
    {
     "name": "stdout",
     "output_type": "stream",
     "text": [
      "0.8270321361058601\n"
     ]
    }
   ],
   "source": [
    "SVM_model = svm.SVC(kernel=\"poly\",degree=3, coef0=1, C=50, decision_function_shape='ovo', random_state = 42)  #For multiclass classification\n",
    "SVM_model.fit(X_train, y_train_svm )\n",
    "predicted_values = SVM_model.predict(X_test)\n",
    "accuracy = metrics.accuracy_score(y_test_svm, predicted_values)\n",
    "print(accuracy)"
   ]
  },
  {
   "cell_type": "code",
   "execution_count": 32,
   "metadata": {},
   "outputs": [
    {
     "data": {
      "text/plain": [
       "SVC(C=100, coef0=1, decision_function_shape='ovo', kernel='poly',\n",
       "    random_state=42)"
      ]
     },
     "execution_count": 32,
     "metadata": {},
     "output_type": "execute_result"
    }
   ],
   "source": [
    "SVM_model = svm.SVC(kernel=\"poly\", degree=3, coef0=1, C=100, decision_function_shape='ovo', random_state = 42)  #For multiclass classification\n",
    "SVM_model.fit(X_train, y_train_svm )"
   ]
  },
  {
   "cell_type": "code",
   "execution_count": 33,
   "metadata": {},
   "outputs": [
    {
     "name": "stdout",
     "output_type": "stream",
     "text": [
      "0.8298676748582231\n"
     ]
    }
   ],
   "source": [
    "predicted_values = SVM_model.predict(X_test)\n",
    "accuracy = metrics.accuracy_score(y_test_svm, predicted_values)\n",
    "print(accuracy)"
   ]
  },
  {
   "cell_type": "code",
   "execution_count": 34,
   "metadata": {},
   "outputs": [
    {
     "name": "stdout",
     "output_type": "stream",
     "text": [
      "0.8308128544423441\n"
     ]
    }
   ],
   "source": [
    "SVM_model = svm.SVC(kernel=\"poly\",degree=3, coef0=1, C=200,decision_function_shape='ovo', random_state = 42)  #For multiclass classification\n",
    "SVM_model.fit(X_train, y_train_svm )\n",
    "predicted_values = SVM_model.predict(X_test)\n",
    "accuracy = metrics.accuracy_score(y_test_svm, predicted_values)\n",
    "print(accuracy)"
   ]
  }
 ],
 "metadata": {
  "kernelspec": {
   "display_name": "Python 3 (ipykernel)",
   "language": "python",
   "name": "python3"
  },
  "language_info": {
   "codemirror_mode": {
    "name": "ipython",
    "version": 3
   },
   "file_extension": ".py",
   "mimetype": "text/x-python",
   "name": "python",
   "nbconvert_exporter": "python",
   "pygments_lexer": "ipython3",
   "version": "3.9.12"
  },
  "vscode": {
   "interpreter": {
    "hash": "2faa9ffcda42e4b207ec62cf305bc395672fd330dde5826d578866179f4b563b"
   }
  }
 },
 "nbformat": 4,
 "nbformat_minor": 2
}
